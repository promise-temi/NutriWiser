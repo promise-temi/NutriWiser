{
 "cells": [
  {
   "cell_type": "code",
   "execution_count": 1,
   "id": "bc298f79",
   "metadata": {},
   "outputs": [],
   "source": [
    "import polars as pl\n",
    "\n",
    "df = pl.read_parquet(\"../openfoodfacts_products.parquet\")"
   ]
  },
  {
   "cell_type": "code",
   "execution_count": null,
   "id": "4b2a7113",
   "metadata": {},
   "outputs": [],
   "source": [
    "import polars as pl\n",
    "\n",
    "def detect_empty_columns(df: pl.DataFrame, threshold: float = 0.95):\n",
    "    total_rows = df.height\n",
    "    results = []\n",
    "\n",
    "    for col in df.columns:\n",
    "        # Count nulls\n",
    "        nulls = df.select(pl.col(col).is_null().sum()).item()\n",
    "        \n",
    "        # Count empty strings (only for string columns)\n",
    "        empties = 0\n",
    "        if df.schema[col] == pl.Utf8:\n",
    "            empties = df.select((pl.col(col) == \"\").sum()).item()\n",
    "        \n",
    "        # Compute total missing\n",
    "        total_missing = nulls + empties\n",
    "        ratio = total_missing / total_rows\n",
    "\n",
    "        if ratio >= threshold:\n",
    "            results.append((col, ratio))\n",
    "\n",
    "    return sorted(results, key=lambda x: -x[1])\n",
    "\n"
   ]
  },
  {
   "cell_type": "code",
   "execution_count": 9,
   "id": "01c224db",
   "metadata": {},
   "outputs": [
    {
     "name": "stdout",
     "output_type": "stream",
     "text": [
      "cities: 100.00% de valeurs manquantes\n",
      "allergens_en: 100.00% de valeurs manquantes\n",
      "nutrition-score-uk_100g: 100.00% de valeurs manquantes\n",
      "additives: 100.00% de valeurs manquantes\n",
      "elaidic-acid_100g: 100.00% de valeurs manquantes\n",
      "glycemic-index_100g: 100.00% de valeurs manquantes\n",
      "chlorophyl_100g: 100.00% de valeurs manquantes\n",
      "erucic-acid_100g: 100.00% de valeurs manquantes\n",
      "water-hardness_100g: 100.00% de valeurs manquantes\n",
      "carbohydrates-total_100g: 100.00% de valeurs manquantes\n",
      "caproic-acid_100g: 100.00% de valeurs manquantes\n",
      "galactose_100g: 100.00% de valeurs manquantes\n",
      "gamma-linolenic-acid_100g: 100.00% de valeurs manquantes\n",
      "nervonic-acid_100g: 100.00% de valeurs manquantes\n",
      "lignoceric-acid_100g: 100.00% de valeurs manquantes\n",
      "dihomo-gamma-linolenic-acid_100g: 100.00% de valeurs manquantes\n",
      "caprylic-acid_100g: 100.00% de valeurs manquantes\n",
      "cerotic-acid_100g: 100.00% de valeurs manquantes\n",
      "capric-acid_100g: 100.00% de valeurs manquantes\n",
      "myristic-acid_100g: 100.00% de valeurs manquantes\n",
      "mead-acid_100g: 100.00% de valeurs manquantes\n",
      "montanic-acid_100g: 100.00% de valeurs manquantes\n",
      "acidity_100g: 100.00% de valeurs manquantes\n",
      "melissic-acid_100g: 100.00% de valeurs manquantes\n",
      "stearic-acid_100g: 100.00% de valeurs manquantes\n",
      "lauric-acid_100g: 100.00% de valeurs manquantes\n",
      "butyric-acid_100g: 100.00% de valeurs manquantes\n",
      "nucleotides_100g: 100.00% de valeurs manquantes\n",
      "palmitic-acid_100g: 100.00% de valeurs manquantes\n",
      "beta-glucan_100g: 100.00% de valeurs manquantes\n",
      "carnitine_100g: 100.00% de valeurs manquantes\n",
      "casein_100g: 100.00% de valeurs manquantes\n",
      "gondoic-acid_100g: 100.00% de valeurs manquantes\n",
      "serum-proteins_100g: 100.00% de valeurs manquantes\n",
      "sucrose_100g: 100.00% de valeurs manquantes\n",
      "behenic-acid_100g: 100.00% de valeurs manquantes\n",
      "beta-carotene_100g: 100.00% de valeurs manquantes\n",
      "inositol_100g: 100.00% de valeurs manquantes\n",
      "oleic-acid_100g: 100.00% de valeurs manquantes\n",
      "added-salt_100g: 100.00% de valeurs manquantes\n",
      "nitrate_100g: 100.00% de valeurs manquantes\n",
      "erythritol_100g: 100.00% de valeurs manquantes\n",
      "sulphate_100g: 100.00% de valeurs manquantes\n",
      "unsaturated-fat_100g: 100.00% de valeurs manquantes\n",
      "choline_100g: 100.00% de valeurs manquantes\n",
      "maltose_100g: 99.99% de valeurs manquantes\n",
      "omega-9-fat_100g: 99.99% de valeurs manquantes\n",
      "maltodextrins_100g: 99.99% de valeurs manquantes\n",
      "silica_100g: 99.99% de valeurs manquantes\n",
      "eicosapentaenoic-acid_100g: 99.99% de valeurs manquantes\n",
      "arachidonic-acid_100g: 99.99% de valeurs manquantes\n",
      "arachidic-acid_100g: 99.99% de valeurs manquantes\n",
      "collagen-meat-protein-ratio_100g: 99.99% de valeurs manquantes\n",
      "taurine_100g: 99.99% de valeurs manquantes\n",
      "carbon-footprint_100g: 99.99% de valeurs manquantes\n",
      "docosahexaenoic-acid_100g: 99.99% de valeurs manquantes\n",
      "chromium_100g: 99.99% de valeurs manquantes\n",
      "molybdenum_100g: 99.98% de valeurs manquantes\n",
      "linoleic-acid_100g: 99.98% de valeurs manquantes\n",
      "ph_100g: 99.98% de valeurs manquantes\n",
      "starch_100g: 99.98% de valeurs manquantes\n",
      "bicarbonate_100g: 99.97% de valeurs manquantes\n",
      "energy-from-fat_100g: 99.97% de valeurs manquantes\n",
      "fruits-vegetables-nuts-dried_100g: 99.97% de valeurs manquantes\n",
      "alpha-linolenic-acid_100g: 99.96% de valeurs manquantes\n",
      "phylloquinone_100g: 99.96% de valeurs manquantes\n",
      "chloride_100g: 99.95% de valeurs manquantes\n",
      "biotin_100g: 99.94% de valeurs manquantes\n",
      "insoluble-fiber_100g: 99.91% de valeurs manquantes\n",
      "soluble-fiber_100g: 99.90% de valeurs manquantes\n",
      "polyols_100g: 99.83% de valeurs manquantes\n",
      "cocoa_100g: 99.78% de valeurs manquantes\n",
      "folates_100g: 99.77% de valeurs manquantes\n",
      "fructose_100g: 99.74% de valeurs manquantes\n",
      "glucose_100g: 99.73% de valeurs manquantes\n",
      "fruits-vegetables-nuts-estimate_100g: 99.73% de valeurs manquantes\n",
      "fluoride_100g: 99.72% de valeurs manquantes\n",
      "omega-6-fat_100g: 99.71% de valeurs manquantes\n",
      "lactose_100g: 99.70% de valeurs manquantes\n",
      "fruits-vegetables-nuts_100g: 99.68% de valeurs manquantes\n",
      "vitamin-k_100g: 99.67% de valeurs manquantes\n",
      "carbon-footprint-from-meat-or-fish_100g: 99.67% de valeurs manquantes\n",
      "iodine_100g: 99.65% de valeurs manquantes\n",
      "caffeine_100g: 99.65% de valeurs manquantes\n",
      "selenium_100g: 99.63% de valeurs manquantes\n",
      "omega-3-fat_100g: 99.62% de valeurs manquantes\n",
      "copper_100g: 99.59% de valeurs manquantes\n",
      "manganese_100g: 99.58% de valeurs manquantes\n",
      "pantothenic-acid_100g: 99.47% de valeurs manquantes\n",
      "vitamin-e_100g: 99.47% de valeurs manquantes\n",
      "zinc_100g: 99.34% de valeurs manquantes\n",
      "vitamin-b9_100g: 99.34% de valeurs manquantes\n",
      "phosphorus_100g: 99.27% de valeurs manquantes\n",
      "abbreviated_product_name: 99.26% de valeurs manquantes\n",
      "packaging_text: 99.25% de valeurs manquantes\n",
      "vitamin-b12_100g: 99.17% de valeurs manquantes\n",
      "magnesium_100g: 99.16% de valeurs manquantes\n",
      "vitamin-b6_100g: 99.12% de valeurs manquantes\n",
      "vitamin-pp_100g: 99.06% de valeurs manquantes\n",
      "vitamin-b1_100g: 98.93% de valeurs manquantes\n",
      "vitamin-b2_100g: 98.93% de valeurs manquantes\n",
      "alcohol_100g: 98.77% de valeurs manquantes\n",
      "no_nutrition_data: 98.37% de valeurs manquantes\n",
      "polyunsaturated-fat_100g: 98.25% de valeurs manquantes\n",
      "monounsaturated-fat_100g: 98.25% de valeurs manquantes\n",
      "vitamin-d_100g: 97.97% de valeurs manquantes\n",
      "added-sugars_100g: 97.97% de valeurs manquantes\n",
      "first_packaging_code_geo: 97.60% de valeurs manquantes\n",
      "cities_tags: 97.41% de valeurs manquantes\n",
      "owner: 96.89% de valeurs manquantes\n",
      "origins_tags: 96.05% de valeurs manquantes\n",
      "origins_en: 96.05% de valeurs manquantes\n",
      "origins: 96.05% de valeurs manquantes\n",
      "traces: 95.93% de valeurs manquantes\n",
      "data_quality_errors_tags: 95.86% de valeurs manquantes\n",
      "generic_name: 95.46% de valeurs manquantes\n"
     ]
    }
   ],
   "source": [
    "\n",
    "columns_to_drop = detect_empty_columns(df, threshold=0.95)\n",
    "\n",
    "for col, ratio in columns_to_drop:\n",
    "    print(f\"{col}: {ratio:.2%} de valeurs manquantes\")\n"
   ]
  },
  {
   "cell_type": "code",
   "execution_count": 4,
   "id": "7be52a17",
   "metadata": {},
   "outputs": [],
   "source": [
    "# Suppression automatique des colonnes vides à plus de 95%\n",
    "columns_to_drop = [col for col, ratio in detect_empty_columns(df, threshold=0.95)]\n",
    "\n",
    "# Suppression du DataFrame\n",
    "df_cleaned = df.drop(columns_to_drop)"
   ]
  },
  {
   "cell_type": "code",
   "execution_count": 10,
   "id": "2f717eb7",
   "metadata": {},
   "outputs": [
    {
     "data": {
      "text/plain": [
       "93"
      ]
     },
     "execution_count": 10,
     "metadata": {},
     "output_type": "execute_result"
    }
   ],
   "source": [
    "len(df_cleaned.columns)"
   ]
  },
  {
   "cell_type": "code",
   "execution_count": 11,
   "id": "1ab16e96",
   "metadata": {},
   "outputs": [
    {
     "data": {
      "text/html": [
       "<div><style>\n",
       ".dataframe > thead > tr,\n",
       ".dataframe > tbody > tr {\n",
       "  text-align: right;\n",
       "  white-space: pre-wrap;\n",
       "}\n",
       "</style>\n",
       "<small>shape: (5, 93)</small><table border=\"1\" class=\"dataframe\"><thead><tr><th>code</th><th>url</th><th>creator</th><th>created_t</th><th>created_datetime</th><th>last_modified_t</th><th>last_modified_datetime</th><th>last_modified_by</th><th>last_updated_t</th><th>last_updated_datetime</th><th>product_name</th><th>quantity</th><th>packaging</th><th>packaging_tags</th><th>packaging_en</th><th>brands</th><th>brands_tags</th><th>brands_en</th><th>categories</th><th>categories_tags</th><th>categories_en</th><th>manufacturing_places</th><th>manufacturing_places_tags</th><th>labels</th><th>labels_tags</th><th>labels_en</th><th>emb_codes</th><th>emb_codes_tags</th><th>purchase_places</th><th>stores</th><th>countries</th><th>countries_tags</th><th>countries_en</th><th>ingredients_text</th><th>ingredients_tags</th><th>ingredients_analysis_tags</th><th>allergens</th><th>&hellip;</th><th>environmental_score_score</th><th>environmental_score_grade</th><th>nutrient_levels_tags</th><th>product_quantity</th><th>unique_scans_n</th><th>popularity_tags</th><th>completeness</th><th>last_image_t</th><th>last_image_datetime</th><th>main_category</th><th>main_category_en</th><th>image_url</th><th>image_small_url</th><th>image_ingredients_url</th><th>image_ingredients_small_url</th><th>image_nutrition_url</th><th>image_nutrition_small_url</th><th>energy-kj_100g</th><th>energy-kcal_100g</th><th>energy_100g</th><th>fat_100g</th><th>saturated-fat_100g</th><th>trans-fat_100g</th><th>cholesterol_100g</th><th>carbohydrates_100g</th><th>sugars_100g</th><th>fiber_100g</th><th>proteins_100g</th><th>salt_100g</th><th>sodium_100g</th><th>vitamin-a_100g</th><th>vitamin-c_100g</th><th>potassium_100g</th><th>calcium_100g</th><th>iron_100g</th><th>fruits-vegetables-nuts-estimate-from-ingredients_100g</th><th>nutrition-score-fr_100g</th></tr><tr><td>i64</td><td>str</td><td>str</td><td>i64</td><td>str</td><td>i64</td><td>str</td><td>str</td><td>i64</td><td>str</td><td>str</td><td>str</td><td>str</td><td>str</td><td>str</td><td>str</td><td>str</td><td>str</td><td>str</td><td>str</td><td>str</td><td>str</td><td>str</td><td>str</td><td>str</td><td>str</td><td>str</td><td>str</td><td>str</td><td>str</td><td>str</td><td>str</td><td>str</td><td>str</td><td>str</td><td>str</td><td>str</td><td>&hellip;</td><td>i64</td><td>str</td><td>str</td><td>f64</td><td>i64</td><td>str</td><td>f64</td><td>i64</td><td>str</td><td>str</td><td>str</td><td>str</td><td>str</td><td>str</td><td>str</td><td>str</td><td>str</td><td>f64</td><td>f64</td><td>f64</td><td>f64</td><td>f64</td><td>f64</td><td>f64</td><td>f64</td><td>f64</td><td>f64</td><td>f64</td><td>f64</td><td>f64</td><td>f64</td><td>f64</td><td>f64</td><td>f64</td><td>f64</td><td>f64</td><td>i64</td></tr></thead><tbody><tr><td>54</td><td>&quot;http://world-en.openfoodfacts.…</td><td>&quot;kiliweb&quot;</td><td>1582569031</td><td>&quot;2020-02-24T18:30:31Z&quot;</td><td>1733085204</td><td>&quot;2024-12-01T20:33:24Z&quot;</td><td>null</td><td>1740205422</td><td>&quot;2025-02-22T06:23:42Z&quot;</td><td>&quot;Limonade artisanale a la rose&quot;</td><td>null</td><td>null</td><td>null</td><td>null</td><td>null</td><td>null</td><td>null</td><td>null</td><td>null</td><td>null</td><td>null</td><td>null</td><td>null</td><td>null</td><td>null</td><td>null</td><td>null</td><td>null</td><td>null</td><td>&quot;en:fr&quot;</td><td>&quot;en:france&quot;</td><td>&quot;France&quot;</td><td>null</td><td>null</td><td>null</td><td>null</td><td>&hellip;</td><td>null</td><td>&quot;unknown&quot;</td><td>null</td><td>null</td><td>null</td><td>null</td><td>0.1625</td><td>1733085204</td><td>&quot;2024-12-01T20:33:24Z&quot;</td><td>null</td><td>null</td><td>&quot;https://images.openfoodfacts.o…</td><td>&quot;https://images.openfoodfacts.o…</td><td>null</td><td>null</td><td>null</td><td>null</td><td>null</td><td>null</td><td>null</td><td>null</td><td>null</td><td>null</td><td>null</td><td>null</td><td>null</td><td>null</td><td>null</td><td>null</td><td>null</td><td>null</td><td>null</td><td>null</td><td>null</td><td>null</td><td>null</td><td>null</td></tr><tr><td>63</td><td>&quot;http://world-en.openfoodfacts.…</td><td>&quot;kiliweb&quot;</td><td>1673620307</td><td>&quot;2023-01-13T14:31:47Z&quot;</td><td>1746258398</td><td>&quot;2025-05-03T07:46:38Z&quot;</td><td>&quot;roboto-app&quot;</td><td>1746258398</td><td>&quot;2025-05-03T07:46:38Z&quot;</td><td>&quot;CIABATTA OLIVE&quot;</td><td>null</td><td>null</td><td>null</td><td>null</td><td>&quot;EDEKA&quot;</td><td>&quot;xx:edeka&quot;</td><td>&quot;edeka&quot;</td><td>null</td><td>null</td><td>null</td><td>null</td><td>null</td><td>null</td><td>null</td><td>null</td><td>null</td><td>null</td><td>null</td><td>null</td><td>&quot;en:fr&quot;</td><td>&quot;en:france&quot;</td><td>&quot;France&quot;</td><td>&quot;Weizenmehl, Rapsöl, Speisesalz…</td><td>&quot;en:weizenmehl,en:rapsol,en:spe…</td><td>&quot;en:palm-oil-content-unknown,en…</td><td>null</td><td>&hellip;</td><td>null</td><td>&quot;unknown&quot;</td><td>null</td><td>null</td><td>1</td><td>&quot;top-75-percent-scans-2024,top-…</td><td>0.5625</td><td>1746257766</td><td>&quot;2025-05-03T07:36:06Z&quot;</td><td>null</td><td>null</td><td>&quot;https://images.openfoodfacts.o…</td><td>&quot;https://images.openfoodfacts.o…</td><td>null</td><td>null</td><td>null</td><td>null</td><td>null</td><td>332.0</td><td>1389.0</td><td>25.0</td><td>17.3</td><td>null</td><td>null</td><td>3.0</td><td>1.0</td><td>null</td><td>23.0</td><td>1.2</td><td>0.48</td><td>null</td><td>null</td><td>null</td><td>null</td><td>null</td><td>0.0</td><td>null</td></tr><tr><td>114</td><td>&quot;http://world-en.openfoodfacts.…</td><td>&quot;kiliweb&quot;</td><td>1580066482</td><td>&quot;2020-01-26T19:21:22Z&quot;</td><td>1737247862</td><td>&quot;2025-01-19T00:51:02Z&quot;</td><td>&quot;smoothie-app&quot;</td><td>1743312145</td><td>&quot;2025-03-30T05:22:25Z&quot;</td><td>&quot;Chocolate n 3&quot;</td><td>&quot;80 g&quot;</td><td>null</td><td>null</td><td>null</td><td>&quot;Jeff de Bruges&quot;</td><td>&quot;xx:jeff-de-bruges&quot;</td><td>&quot;jeff-de-bruges&quot;</td><td>null</td><td>null</td><td>null</td><td>null</td><td>null</td><td>&quot;Point Vert, Fabriqué en France&quot;</td><td>&quot;en:green-dot,en:made-in-france&quot;</td><td>&quot;Green Dot,Made in France&quot;</td><td>null</td><td>null</td><td>null</td><td>null</td><td>&quot;France&quot;</td><td>&quot;en:france&quot;</td><td>&quot;France&quot;</td><td>null</td><td>null</td><td>null</td><td>null</td><td>&hellip;</td><td>null</td><td>&quot;unknown&quot;</td><td>null</td><td>80.0</td><td>1</td><td>&quot;bottom-25-percent-scans-2022,b…</td><td>0.475</td><td>1737247860</td><td>&quot;2025-01-19T00:51:00Z&quot;</td><td>null</td><td>null</td><td>&quot;https://images.openfoodfacts.o…</td><td>&quot;https://images.openfoodfacts.o…</td><td>null</td><td>null</td><td>&quot;https://images.openfoodfacts.o…</td><td>&quot;https://images.openfoodfacts.o…</td><td>2415.0</td><td>null</td><td>2415.0</td><td>44.0</td><td>28.0</td><td>null</td><td>null</td><td>30.0</td><td>27.0</td><td>null</td><td>7.1</td><td>0.025</td><td>0.01</td><td>null</td><td>null</td><td>null</td><td>null</td><td>null</td><td>null</td><td>null</td></tr><tr><td>1</td><td>&quot;http://world-en.openfoodfacts.…</td><td>&quot;inf&quot;</td><td>1634745456</td><td>&quot;2021-10-20T15:57:36Z&quot;</td><td>1746721833</td><td>&quot;2025-05-08T16:30:33Z&quot;</td><td>&quot;foodless&quot;</td><td>1746721833</td><td>&quot;2025-05-08T16:30:33Z&quot;</td><td>&quot;KOJI MISO PASTE&quot;</td><td>&quot;280gr. 320 Kapseln&quot;</td><td>null</td><td>null</td><td>null</td><td>&quot;Brandt&quot;</td><td>&quot;xx:brandt&quot;</td><td>&quot;brandt&quot;</td><td>&quot;Nahrungsergänzungsmittel&quot;</td><td>&quot;en:dietary-supplements&quot;</td><td>&quot;Dietary supplements&quot;</td><td>null</td><td>null</td><td>&quot;No gluten, Organic, Vegetarian…</td><td>&quot;en:no-gluten,en:organic,en:veg…</td><td>&quot;No gluten,Organic,Vegetarian,E…</td><td>null</td><td>null</td><td>null</td><td>null</td><td>&quot;Allemagne, États-Unis, en:fr&quot;</td><td>&quot;en:france,en:germany,en:united…</td><td>&quot;France,Germany,United States&quot;</td><td>&quot;Mandeln blanchiert&quot;</td><td>&quot;en:blanches-almonds,en:nut,en:…</td><td>&quot;en:palm-oil-free,en:vegan,en:v…</td><td>null</td><td>&hellip;</td><td>null</td><td>&quot;unknown&quot;</td><td>null</td><td>280.0</td><td>1</td><td>&quot;top-75-percent-scans-2024,top-…</td><td>0.85</td><td>1746387820</td><td>&quot;2025-05-04T19:43:40Z&quot;</td><td>&quot;en:dietary-supplements&quot;</td><td>&quot;Dietary supplements&quot;</td><td>&quot;https://images.openfoodfacts.o…</td><td>&quot;https://images.openfoodfacts.o…</td><td>&quot;https://images.openfoodfacts.o…</td><td>&quot;https://images.openfoodfacts.o…</td><td>&quot;https://images.openfoodfacts.o…</td><td>&quot;https://images.openfoodfacts.o…</td><td>null</td><td>null</td><td>null</td><td>null</td><td>null</td><td>null</td><td>null</td><td>null</td><td>null</td><td>null</td><td>null</td><td>null</td><td>null</td><td>null</td><td>null</td><td>null</td><td>null</td><td>null</td><td>100.0</td><td>null</td></tr><tr><td>105</td><td>&quot;http://world-en.openfoodfacts.…</td><td>&quot;kiliweb&quot;</td><td>1572117743</td><td>&quot;2019-10-26T19:22:23Z&quot;</td><td>1738073570</td><td>&quot;2025-01-28T14:12:50Z&quot;</td><td>null</td><td>1743653496</td><td>&quot;2025-04-03T04:11:36Z&quot;</td><td>&quot;Paleta gran reserva - Sierra n…</td><td>&quot;750ml&quot;</td><td>null</td><td>null</td><td>null</td><td>&quot;AdvoCare&quot;</td><td>&quot;xx:advocare&quot;</td><td>&quot;advocare&quot;</td><td>&quot;Bebidas y preparaciones de beb…</td><td>&quot;en:beverages-and-beverages-pre…</td><td>&quot;Beverages and beverages prepar…</td><td>null</td><td>null</td><td>null</td><td>null</td><td>null</td><td>null</td><td>null</td><td>null</td><td>null</td><td>&quot;Spanien, Germany&quot;</td><td>&quot;en:germany,en:spain&quot;</td><td>&quot;Germany,Spain&quot;</td><td>&quot;Thiamin, Biotin, Chromium, Gar…</td><td>&quot;en:thiamin,en:biotin,en:vitami…</td><td>&quot;en:may-contain-palm-oil,en:veg…</td><td>null</td><td>&hellip;</td><td>null</td><td>&quot;unknown&quot;</td><td>null</td><td>750.0</td><td>1</td><td>&quot;top-75-percent-scans-2024,top-…</td><td>0.675</td><td>1738073557</td><td>&quot;2025-01-28T14:12:37Z&quot;</td><td>&quot;en:beverages&quot;</td><td>&quot;Beverages&quot;</td><td>&quot;https://images.openfoodfacts.o…</td><td>&quot;https://images.openfoodfacts.o…</td><td>null</td><td>null</td><td>&quot;https://images.openfoodfacts.o…</td><td>&quot;https://images.openfoodfacts.o…</td><td>null</td><td>null</td><td>null</td><td>null</td><td>null</td><td>null</td><td>null</td><td>null</td><td>null</td><td>null</td><td>null</td><td>null</td><td>null</td><td>null</td><td>null</td><td>null</td><td>null</td><td>null</td><td>0.011335</td><td>null</td></tr></tbody></table></div>"
      ],
      "text/plain": [
       "shape: (5, 93)\n",
       "┌──────┬─────────────┬─────────┬────────────┬───┬────────────┬───────────┬────────────┬────────────┐\n",
       "│ code ┆ url         ┆ creator ┆ created_t  ┆ … ┆ calcium_10 ┆ iron_100g ┆ fruits-veg ┆ nutrition- │\n",
       "│ ---  ┆ ---         ┆ ---     ┆ ---        ┆   ┆ 0g         ┆ ---       ┆ etables-nu ┆ score-fr_1 │\n",
       "│ i64  ┆ str         ┆ str     ┆ i64        ┆   ┆ ---        ┆ f64       ┆ ts-estimat ┆ 00g        │\n",
       "│      ┆             ┆         ┆            ┆   ┆ f64        ┆           ┆ …          ┆ ---        │\n",
       "│      ┆             ┆         ┆            ┆   ┆            ┆           ┆ ---        ┆ i64        │\n",
       "│      ┆             ┆         ┆            ┆   ┆            ┆           ┆ f64        ┆            │\n",
       "╞══════╪═════════════╪═════════╪════════════╪═══╪════════════╪═══════════╪════════════╪════════════╡\n",
       "│ 54   ┆ http://worl ┆ kiliweb ┆ 1582569031 ┆ … ┆ null       ┆ null      ┆ null       ┆ null       │\n",
       "│      ┆ d-en.openfo ┆         ┆            ┆   ┆            ┆           ┆            ┆            │\n",
       "│      ┆ odfacts.…   ┆         ┆            ┆   ┆            ┆           ┆            ┆            │\n",
       "│ 63   ┆ http://worl ┆ kiliweb ┆ 1673620307 ┆ … ┆ null       ┆ null      ┆ 0.0        ┆ null       │\n",
       "│      ┆ d-en.openfo ┆         ┆            ┆   ┆            ┆           ┆            ┆            │\n",
       "│      ┆ odfacts.…   ┆         ┆            ┆   ┆            ┆           ┆            ┆            │\n",
       "│ 114  ┆ http://worl ┆ kiliweb ┆ 1580066482 ┆ … ┆ null       ┆ null      ┆ null       ┆ null       │\n",
       "│      ┆ d-en.openfo ┆         ┆            ┆   ┆            ┆           ┆            ┆            │\n",
       "│      ┆ odfacts.…   ┆         ┆            ┆   ┆            ┆           ┆            ┆            │\n",
       "│ 1    ┆ http://worl ┆ inf     ┆ 1634745456 ┆ … ┆ null       ┆ null      ┆ 100.0      ┆ null       │\n",
       "│      ┆ d-en.openfo ┆         ┆            ┆   ┆            ┆           ┆            ┆            │\n",
       "│      ┆ odfacts.…   ┆         ┆            ┆   ┆            ┆           ┆            ┆            │\n",
       "│ 105  ┆ http://worl ┆ kiliweb ┆ 1572117743 ┆ … ┆ null       ┆ null      ┆ 0.011335   ┆ null       │\n",
       "│      ┆ d-en.openfo ┆         ┆            ┆   ┆            ┆           ┆            ┆            │\n",
       "│      ┆ odfacts.…   ┆         ┆            ┆   ┆            ┆           ┆            ┆            │\n",
       "└──────┴─────────────┴─────────┴────────────┴───┴────────────┴───────────┴────────────┴────────────┘"
      ]
     },
     "execution_count": 11,
     "metadata": {},
     "output_type": "execute_result"
    }
   ],
   "source": [
    "df_cleaned.head(5)"
   ]
  },
  {
   "cell_type": "code",
   "execution_count": null,
   "id": "e6ea0e0b",
   "metadata": {},
   "outputs": [],
   "source": [
    "df_cleaned.write_csv(\"../openfoodfacts_no_empty_columns.csv\")"
   ]
  },
  {
   "cell_type": "code",
   "execution_count": 13,
   "id": "466a0ecb",
   "metadata": {},
   "outputs": [],
   "source": [
    "df_cleaned.write_ndjson(\"../openfoodfacts_no_empty_columns.jsonl\")"
   ]
  },
  {
   "cell_type": "code",
   "execution_count": null,
   "id": "ed5612f2",
   "metadata": {},
   "outputs": [],
   "source": []
  },
  {
   "cell_type": "code",
   "execution_count": null,
   "id": "c0a56bc9",
   "metadata": {},
   "outputs": [],
   "source": [
    "from pymongo import MongoClient\n",
    "\n",
    "# Requires the PyMongo package.\n",
    "# https://api.mongodb.com/python/current\n",
    "\n",
    "client = MongoClient('mongodb://localhost:27017/')\n",
    "filter={}\n",
    "project={\n",
    "    'url': True\n",
    "}\n",
    "\n",
    "result = client['nutriwizer']['products'].find(\n",
    "  filter=filter,\n",
    "  projection=project\n",
    ")"
   ]
  }
 ],
 "metadata": {
  "kernelspec": {
   "display_name": "venv",
   "language": "python",
   "name": "python3"
  },
  "language_info": {
   "codemirror_mode": {
    "name": "ipython",
    "version": 3
   },
   "file_extension": ".py",
   "mimetype": "text/x-python",
   "name": "python",
   "nbconvert_exporter": "python",
   "pygments_lexer": "ipython3",
   "version": "3.12.7"
  }
 },
 "nbformat": 4,
 "nbformat_minor": 5
}
