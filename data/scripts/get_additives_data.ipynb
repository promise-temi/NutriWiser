{
 "cells": [
  {
   "cell_type": "code",
   "execution_count": 1,
   "id": "a34a68a1",
   "metadata": {},
   "outputs": [],
   "source": [
    "import requests\n"
   ]
  },
  {
   "cell_type": "code",
   "execution_count": null,
   "id": "5acd1a43",
   "metadata": {},
   "outputs": [],
   "source": [
    "response = requests.get('https://static.openfoodfacts.org/data/taxonomies/additives.json', stream=True)\n",
    "\n",
    "if response.status_code == 200:\n",
    "    with open('../additives.json', 'wb') as file :\n",
    "        for chunk in response.iter_content(chunk_size=1000):\n",
    "            file.write(chunk)\n",
    "else:\n",
    "    print(f\"Une erreur s'est produite lors du télechargement du fichier\")"
   ]
  }
 ],
 "metadata": {
  "kernelspec": {
   "display_name": "venv",
   "language": "python",
   "name": "python3"
  },
  "language_info": {
   "codemirror_mode": {
    "name": "ipython",
    "version": 3
   },
   "file_extension": ".py",
   "mimetype": "text/x-python",
   "name": "python",
   "nbconvert_exporter": "python",
   "pygments_lexer": "ipython3",
   "version": "3.12.7"
  }
 },
 "nbformat": 4,
 "nbformat_minor": 5
}
