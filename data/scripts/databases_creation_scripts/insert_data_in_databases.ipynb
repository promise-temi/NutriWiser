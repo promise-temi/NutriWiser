{
 "cells": [
  {
   "cell_type": "code",
   "execution_count": 4,
   "id": "47aee4bb",
   "metadata": {},
   "outputs": [
    {
     "name": "stdout",
     "output_type": "stream",
     "text": [
      "Données insérées avec succès.\n"
     ]
    }
   ],
   "source": [
    "from pymongo import MongoClient\n",
    "import json\n",
    "\n",
    "# Connexion Mongo\n",
    "client = MongoClient(\"mongodb://localhost:27017\")\n",
    "db = client[\"nutriwiser_db\"]\n",
    "collection = db[\"additifs\"]\n",
    "\n",
    "# Lecture du JSON\n",
    "with open(\"../../additives.json\", encoding=\"utf-8\") as f:\n",
    "    data = json.load(f)\n",
    "\n",
    "# Insertion dans Mongo\n",
    "if isinstance(data, list):\n",
    "    collection.insert_many(data)\n",
    "else:\n",
    "    collection.insert_one(data)\n",
    "\n",
    "print(\"Données insérées avec succès.\")\n"
   ]
  },
  {
   "cell_type": "code",
   "execution_count": 7,
   "id": "94cbc8f1",
   "metadata": {},
   "outputs": [
    {
     "name": "stdout",
     "output_type": "stream",
     "text": [
      "Données insérées avec succès.\n"
     ]
    }
   ],
   "source": [
    "from pymongo import MongoClient\n",
    "import json\n",
    "\n",
    "# Connexion Mongo\n",
    "client = MongoClient(\"mongodb://localhost:27017\")\n",
    "db = client[\"nutriwiser_db\"]\n",
    "collection = db[\"additifs_scraped\"]\n",
    "\n",
    "# Lecture du JSON\n",
    "with open(\"../../additives_complet_data.json\", encoding=\"utf-8\") as f:\n",
    "    data = json.load(f)\n",
    "\n",
    "# Insertion dans Mongo\n",
    "if isinstance(data, list):\n",
    "    collection.insert_many(data)\n",
    "else:\n",
    "    collection.insert_one(data)\n",
    "\n",
    "print(\"Données insérées avec succès.\")"
   ]
  }
 ],
 "metadata": {
  "kernelspec": {
   "display_name": "venv",
   "language": "python",
   "name": "python3"
  },
  "language_info": {
   "codemirror_mode": {
    "name": "ipython",
    "version": 3
   },
   "file_extension": ".py",
   "mimetype": "text/x-python",
   "name": "python",
   "nbconvert_exporter": "python",
   "pygments_lexer": "ipython3",
   "version": "3.12.7"
  }
 },
 "nbformat": 4,
 "nbformat_minor": 5
}
