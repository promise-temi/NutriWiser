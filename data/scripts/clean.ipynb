{
 "cells": [
  {
   "cell_type": "code",
   "execution_count": 1,
   "id": "fa4fe2b9",
   "metadata": {},
   "outputs": [
    {
     "name": "stdout",
     "output_type": "stream",
     "text": [
      "Télechargement du fichier réussi.\n"
     ]
    }
   ],
   "source": [
    "import requests\n",
    "\n",
    "\n",
    "csv_url = \"https://static.openfoodfacts.org/data/en.openfoodfacts.org.products.csv.gz\"\n",
    "response = requests.get(csv_url, stream=True)\n",
    "\n",
    "if response.status_code == 200:\n",
    "    with open(\"../openfoodfacts_products2.csv.gz\", \"wb\") as file:\n",
    "        for chunk in response.iter_content(chunk_size=8000):\n",
    "            file.write(chunk)\n",
    "    print(\"Télechargement du fichier réussi.\")\n",
    "else:\n",
    "    print(f\"Erreur lors du télechargement du fichier : {response.status_code}\")\n"
   ]
  },
  {
   "cell_type": "code",
   "execution_count": 1,
   "id": "86f72399",
   "metadata": {},
   "outputs": [
    {
     "name": "stdout",
     "output_type": "stream",
     "text": [
      "3.5.0\n"
     ]
    }
   ],
   "source": [
    "import pyspark\n",
    "print(pyspark.__version__)"
   ]
  },
  {
   "cell_type": "code",
   "execution_count": 2,
   "id": "6c157e4f",
   "metadata": {},
   "outputs": [
    {
     "name": "stderr",
     "output_type": "stream",
     "text": [
      "/usr/local/spark/python/pyspark/pandas/__init__.py:50: UserWarning: 'PYARROW_IGNORE_TIMEZONE' environment variable was not set. It is required to set this environment variable to '1' in both driver and executor sides if you use pyarrow>=2.0.0. pandas-on-Spark will set it for you but it does not work if there is a Spark context already launched.\n",
      "  warnings.warn(\n"
     ]
    }
   ],
   "source": [
    "import pyspark.pandas as ps\n"
   ]
  },
  {
   "cell_type": "code",
   "execution_count": 3,
   "id": "fb9bf93d",
   "metadata": {},
   "outputs": [
    {
     "name": "stderr",
     "output_type": "stream",
     "text": [
      "/usr/local/spark/python/pyspark/pandas/utils.py:1016: PandasAPIOnSparkAdviceWarning: If `index_col` is not specified for `read_csv`, the default index is attached which can cause additional overhead.\n",
      "  warnings.warn(message, PandasAPIOnSparkAdviceWarning)\n"
     ]
    }
   ],
   "source": [
    "\n",
    "df = ps.read_csv(\"data/openfoodfacts_products2.csv.gz\", sep=\"\\t\", mode=\"PERMISSIVE\")"
   ]
  },
  {
   "cell_type": "code",
   "execution_count": 4,
   "id": "9086e3e3",
   "metadata": {},
   "outputs": [
    {
     "name": "stderr",
     "output_type": "stream",
     "text": [
      "/usr/local/spark/python/pyspark/pandas/utils.py:1016: PandasAPIOnSparkAdviceWarning: `to_list` loads all data into the driver's memory. It should only be used if the resulting list is expected to be small.\n",
      "  warnings.warn(message, PandasAPIOnSparkAdviceWarning)\n"
     ]
    }
   ],
   "source": [
    "nutrition_distinct_list = df['nutriscore_grade'].unique().tolist()"
   ]
  },
  {
   "cell_type": "code",
   "execution_count": 11,
   "id": "e810a044",
   "metadata": {},
   "outputs": [
    {
     "data": {
      "text/plain": [
       "['unknown', 'e', 'd', 'c', 'not-applicable', 'b', 'a', None]"
      ]
     },
     "execution_count": 11,
     "metadata": {},
     "output_type": "execute_result"
    }
   ],
   "source": [
    "nutrition_distinct_list"
   ]
  },
  {
   "cell_type": "code",
   "execution_count": 5,
   "id": "8fe8c14d",
   "metadata": {},
   "outputs": [
    {
     "name": "stdout",
     "output_type": "stream",
     "text": [
      "0 - unknown\n",
      "1 - e\n",
      "2 - d\n",
      "3 - c\n",
      "4 - not-applicable\n",
      "5 - b\n",
      "6 - a\n",
      "7 - None\n"
     ]
    }
   ],
   "source": [
    "df_samples = []\n",
    "index = 0\n",
    "for grade in nutrition_distinct_list:\n",
    "    print(f\"{index} - {grade}\")\n",
    "    sample_df = df[df['nutriscore_grade'] == grade].sample(frac=0.1, random_state=42)\n",
    "    df_samples.append(sample_df)\n",
    "    index += 1 \n",
    "df_samples_final = ps.concat(df_samples)\n",
    "\n"
   ]
  },
  {
   "cell_type": "code",
   "execution_count": 6,
   "id": "64dabb53",
   "metadata": {},
   "outputs": [
    {
     "name": "stderr",
     "output_type": "stream",
     "text": [
      "/usr/local/spark/python/pyspark/pandas/utils.py:1016: PandasAPIOnSparkAdviceWarning: If `index_col` is not specified for `to_spark`, the existing index is lost when converting to Spark DataFrame.\n",
      "  warnings.warn(message, PandasAPIOnSparkAdviceWarning)\n"
     ]
    }
   ],
   "source": [
    "df_samples_final.to_csv(\"data/openfoodfacts_products_samples_final.csv.gz\", index=False, compression='gzip')"
   ]
  },
  {
   "cell_type": "markdown",
   "id": "43db6a06",
   "metadata": {},
   "source": [
    "nettoyage du gros dataset"
   ]
  },
  {
   "cell_type": "code",
   "execution_count": 7,
   "id": "14bed6fb",
   "metadata": {},
   "outputs": [
    {
     "name": "stderr",
     "output_type": "stream",
     "text": [
      "/usr/local/spark/python/pyspark/pandas/utils.py:1016: PandasAPIOnSparkAdviceWarning: `to_list` loads all data into the driver's memory. It should only be used if the resulting list is expected to be small.\n",
      "  warnings.warn(message, PandasAPIOnSparkAdviceWarning)\n"
     ]
    },
    {
     "name": "stdout",
     "output_type": "stream",
     "text": [
      "116\n"
     ]
    },
    {
     "data": {
      "text/plain": [
       "['abbreviated_product_name',\n",
       " 'generic_name',\n",
       " 'packaging_text',\n",
       " 'origins',\n",
       " 'origins_tags',\n",
       " 'origins_en',\n",
       " 'first_packaging_code_geo',\n",
       " 'cities',\n",
       " 'cities_tags',\n",
       " 'allergens_en',\n",
       " 'traces',\n",
       " 'no_nutrition_data',\n",
       " 'additives',\n",
       " 'owner',\n",
       " 'data_quality_errors_tags',\n",
       " 'energy-from-fat_100g',\n",
       " 'butyric-acid_100g',\n",
       " 'caproic-acid_100g',\n",
       " 'caprylic-acid_100g',\n",
       " 'capric-acid_100g',\n",
       " 'lauric-acid_100g',\n",
       " 'myristic-acid_100g',\n",
       " 'palmitic-acid_100g',\n",
       " 'stearic-acid_100g',\n",
       " 'arachidic-acid_100g',\n",
       " 'behenic-acid_100g',\n",
       " 'lignoceric-acid_100g',\n",
       " 'cerotic-acid_100g',\n",
       " 'montanic-acid_100g',\n",
       " 'melissic-acid_100g',\n",
       " 'unsaturated-fat_100g',\n",
       " 'monounsaturated-fat_100g',\n",
       " 'omega-9-fat_100g',\n",
       " 'polyunsaturated-fat_100g',\n",
       " 'omega-3-fat_100g',\n",
       " 'omega-6-fat_100g',\n",
       " 'alpha-linolenic-acid_100g',\n",
       " 'eicosapentaenoic-acid_100g',\n",
       " 'docosahexaenoic-acid_100g',\n",
       " 'linoleic-acid_100g',\n",
       " 'arachidonic-acid_100g',\n",
       " 'gamma-linolenic-acid_100g',\n",
       " 'dihomo-gamma-linolenic-acid_100g',\n",
       " 'oleic-acid_100g',\n",
       " 'elaidic-acid_100g',\n",
       " 'gondoic-acid_100g',\n",
       " 'mead-acid_100g',\n",
       " 'erucic-acid_100g',\n",
       " 'nervonic-acid_100g',\n",
       " 'added-sugars_100g',\n",
       " 'sucrose_100g',\n",
       " 'glucose_100g',\n",
       " 'fructose_100g',\n",
       " 'galactose_100g',\n",
       " 'lactose_100g',\n",
       " 'maltose_100g',\n",
       " 'maltodextrins_100g',\n",
       " 'starch_100g',\n",
       " 'polyols_100g',\n",
       " 'erythritol_100g',\n",
       " 'soluble-fiber_100g',\n",
       " 'insoluble-fiber_100g',\n",
       " 'casein_100g',\n",
       " 'serum-proteins_100g',\n",
       " 'nucleotides_100g',\n",
       " 'added-salt_100g',\n",
       " 'alcohol_100g',\n",
       " 'beta-carotene_100g',\n",
       " 'vitamin-d_100g',\n",
       " 'vitamin-e_100g',\n",
       " 'vitamin-k_100g',\n",
       " 'vitamin-b1_100g',\n",
       " 'vitamin-b2_100g',\n",
       " 'vitamin-pp_100g',\n",
       " 'vitamin-b6_100g',\n",
       " 'vitamin-b9_100g',\n",
       " 'folates_100g',\n",
       " 'vitamin-b12_100g',\n",
       " 'biotin_100g',\n",
       " 'pantothenic-acid_100g',\n",
       " 'silica_100g',\n",
       " 'bicarbonate_100g',\n",
       " 'chloride_100g',\n",
       " 'phosphorus_100g',\n",
       " 'magnesium_100g',\n",
       " 'zinc_100g',\n",
       " 'copper_100g',\n",
       " 'manganese_100g',\n",
       " 'fluoride_100g',\n",
       " 'selenium_100g',\n",
       " 'chromium_100g',\n",
       " 'molybdenum_100g',\n",
       " 'iodine_100g',\n",
       " 'caffeine_100g',\n",
       " 'taurine_100g',\n",
       " 'ph_100g',\n",
       " 'fruits-vegetables-nuts_100g',\n",
       " 'fruits-vegetables-nuts-dried_100g',\n",
       " 'fruits-vegetables-nuts-estimate_100g',\n",
       " 'collagen-meat-protein-ratio_100g',\n",
       " 'cocoa_100g',\n",
       " 'chlorophyl_100g',\n",
       " 'carbon-footprint_100g',\n",
       " 'carbon-footprint-from-meat-or-fish_100g',\n",
       " 'nutrition-score-uk_100g',\n",
       " 'glycemic-index_100g',\n",
       " 'water-hardness_100g',\n",
       " 'choline_100g',\n",
       " 'phylloquinone_100g',\n",
       " 'beta-glucan_100g',\n",
       " 'inositol_100g',\n",
       " 'carnitine_100g',\n",
       " 'sulphate_100g',\n",
       " 'nitrate_100g',\n",
       " 'acidity_100g',\n",
       " 'carbohydrates-total_100g']"
      ]
     },
     "execution_count": 7,
     "metadata": {},
     "output_type": "execute_result"
    }
   ],
   "source": [
    "seuil = 95\n",
    "\n",
    "colonnes_completement_vides = df.isna().sum() / len(df) * 100 > seuil\n",
    "colonnes_completement_vides_liste = colonnes_completement_vides[colonnes_completement_vides].index.tolist()\n",
    "print(len(colonnes_completement_vides_liste))\n",
    "colonnes_completement_vides_liste"
   ]
  },
  {
   "cell_type": "code",
   "execution_count": 8,
   "id": "99f1c651",
   "metadata": {},
   "outputs": [],
   "source": [
    "df_sans_colonnes_vides = df.drop(columns=colonnes_completement_vides_liste)"
   ]
  },
  {
   "cell_type": "code",
   "execution_count": 9,
   "id": "d36a7baa",
   "metadata": {},
   "outputs": [],
   "source": [
    "columns_to_be_dropped = ['created_t', 'last_modified_t', 'last_updated_t','quantity', 'packaging', 'packaging_tags', 'packaging_en', 'brands', 'brands_tags', 'brands_en', 'categories_tags', 'categories_en', 'manufacturing_places', 'manufacturing_places_tags', 'labels_en','labels_tags', 'emb_codes','emb_codes_tags', 'purchase_places', 'stores', 'countries','countries_tags', 'countries_en','ingredients_text','ingredients_tags', 'ingredients_analysis_tags', 'allergens', 'traces_tags', 'traces_en', 'serving_size', 'serving_quantity','food_groups_tags' , 'food_groups_en', 'states','states_tags', 'states_en', 'brand_owner', 'environmental_score_score', 'environmental_score_grade','product_quantity', 'unique_scans_n' ,  'popularity_tags', 'completeness',  'last_image_t', 'last_image_datetime', 'main_category_en' , 'image_url', 'image_small_url', 'image_ingredients_url','image_ingredients_small_url', 'image_nutrition_url', 'image_nutrition_small_url' ]\n",
    "\n",
    "df_sans_colonnes_non_pertinentes = df_sans_colonnes_vides.drop(columns=columns_to_be_dropped)"
   ]
  },
  {
   "cell_type": "code",
   "execution_count": 10,
   "id": "c7c9cbd6",
   "metadata": {},
   "outputs": [],
   "source": [
    "df_avec_nutriscore = df_sans_colonnes_non_pertinentes[df_sans_colonnes_non_pertinentes['nutriscore_grade'].isin(['a','b', 'c', 'd', 'e'])]"
   ]
  },
  {
   "cell_type": "code",
   "execution_count": 12,
   "id": "1f4a32b6",
   "metadata": {},
   "outputs": [],
   "source": [
    "df_avec_nutriscore.to_csv('data/df_avec_nutriscore_clean.csv', index=False)"
   ]
  }
 ],
 "metadata": {
  "kernelspec": {
   "display_name": "Python 3 (ipykernel)",
   "language": "python",
   "name": "python3"
  }
 },
 "nbformat": 4,
 "nbformat_minor": 5
}
