{
 "cells": [
  {
   "cell_type": "code",
   "execution_count": 1,
   "id": "e6f6b4e7",
   "metadata": {},
   "outputs": [],
   "source": [
    "import pandas as pd"
   ]
  },
  {
   "cell_type": "code",
   "execution_count": 10,
   "id": "c41a4e9e",
   "metadata": {},
   "outputs": [
    {
     "name": "stderr",
     "output_type": "stream",
     "text": [
      "C:\\Users\\p2972\\AppData\\Local\\Temp\\ipykernel_20148\\3920002641.py:3: DtypeWarning: Columns (40,41,44,46,55,56,60,63) have mixed types. Specify dtype option on import or set low_memory=False.\n",
      "  df = pd.read_csv('../off_products_with_nutriscore.csv', on_bad_lines='skip')\n"
     ]
    }
   ],
   "source": [
    "import missingno as msno\n",
    "\n",
    "df = pd.read_csv('../off_products_with_nutriscore.csv', on_bad_lines='skip')"
   ]
  },
  {
   "cell_type": "code",
   "execution_count": 9,
   "id": "55e19e23",
   "metadata": {},
   "outputs": [
    {
     "data": {
      "application/vnd.microsoft.datawrangler.viewer.v0+json": {
       "columns": [
        {
         "name": "index",
         "rawType": "int64",
         "type": "integer"
        },
        {
         "name": "code,url,creator,created_t,created_datetime,last_modified_t,last_modified_datetime,last_modified_by,last_updated_t,last_updated_datetime,product_name,quantity,packaging,packaging_tags,packaging_en,brands,brands_tags,brands_en,categories,categories_tags,categories_en,manufacturing_places,manufacturing_places_tags,labels,labels_tags,labels_en,emb_codes,emb_codes_tags,purchase_places,stores,countries,countries_tags,countries_en,ingredients_text,ingredients_tags,ingredients_analysis_tags,allergens,traces_tags,traces_en,serving_size,serving_quantity,additives_n,additives_tags,additives_en,nutriscore_score,nutriscore_grade,nova_group,pnns_groups_1,pnns_groups_2,food_groups,food_groups_tags,food_groups_en,states,states_tags,states_en,brand_owner,environmental_score_score,environmental_score_grade,nutrient_levels_tags,product_quantity,unique_scans_n,popularity_tags,completeness,last_image_t,last_image_datetime,main_category,main_category_en,image_url,image_small_url,image_ingredients_url,image_ingredients_small_url,image_nutrition_url,image_nutrition_small_url,energy-kj_100g,energy-kcal_100g,energy_100g,fat_100g,saturated-fat_100g,trans-fat_100g,cholesterol_100g,carbohydrates_100g,sugars_100g,fiber_100g,proteins_100g,salt_100g,sodium_100g,vitamin-a_100g,vitamin-c_100g,potassium_100g,calcium_100g,iron_100g,fruits-vegetables-nuts-estimate-from-ingredients_100g,nutrition-score-fr_100g",
         "rawType": "object",
         "type": "string"
        }
       ],
       "ref": "b971008c-80f0-4b18-a022-41652c891329",
       "rows": [
        [
         "0",
         "4.0,http://world-en.openfoodfacts.org/product/00000004/entrecoesteack-highland-beef-pg-tips,elcoco,1560176426,2019-06-10T14:20:26.000Z,1748094869,2025-05-24T13:54:29.000Z,smoothie-app,1748094869,2025-05-24T13:54:29.000Z,Entrecôesteack - Highland Beef,1000g,Glas,en:glass,Glass,\"PG Tips, green organic\",\"xx:pg-tips,xx:green-organic\",\"pg-tips,green-organic\",Nutrition drink mix,en:nutrition-drink-mix,Nutrition-drink-mix,,,\"Fair trade, Organic, EU Organic, Certified B Corporation, CH-BIO-006, FSC, FSC Mix, Soil Association Organic, en:no-preservatives\",\"en:fair-trade,en:organic,en:eu-organic,en:no-preservatives,en:certified-b-corporation,en:ch-bio-006,en:fsc,en:fsc-mix,en:soil-association-organic\",\"Fair trade,Organic,EU Organic,No preservatives,Certified B Corporation,CH-BIO-006,FSC,FSC Mix,Soil Association Organic\",,,United Kingdom,Amazon,\"Brasilien, Germany\",\"en:brazil,en:germany\",\"Brazil,Germany\",\"Organic Ashwagandha KSM-66, Vegetable Capsule Shell (HydroxyPropylMethyl Cellulose), Organic Black Pepper.\",\"es:organic-ashwagandha-ksm-66,es:vegetable-capsule-shell,es:organic-black-pepper,es:hydroxypropylmethyl-cellulose\",\"en:palm-oil-content-unknown,en:vegan-status-unknown,en:vegetarian-status-unknown\",\"en:nuts,en:soybeans\",,,0g,0.0,0,,,15,d,,unknown,unknown,,,,\"en:to-be-completed, en:nutrition-facts-completed, en:ingredients-completed, en:expiration-date-to-be-completed, en:packaging-code-to-be-completed, en:characteristics-completed, en:origins-completed, en:categories-completed, en:brands-completed, en:packaging-completed, en:quantity-completed, en:product-name-completed, en:photos-to-be-validated, en:packaging-photo-to-be-selected, en:nutrition-photo-selected, en:ingredients-photo-selected, en:front-photo-selected, en:photos-uploaded\",\"en:to-be-completed,en:nutrition-facts-completed,en:ingredients-completed,en:expiration-date-to-be-completed,en:packaging-code-to-be-completed,en:characteristics-completed,en:origins-completed,en:categories-completed,en:brands-completed,en:packaging-completed,en:quantity-completed,en:product-name-completed,en:photos-to-be-validated,en:packaging-photo-to-be-selected,en:nutrition-photo-selected,en:ingredients-photo-selected,en:front-photo-selected,en:photos-uploaded\",\"To be completed,Nutrition facts completed,Ingredients completed,Expiration date to be completed,Packaging code to be completed,Characteristics completed,Origins completed,Categories completed,Brands completed,Packaging completed,Quantity completed,Product name completed,Photos to be validated,Packaging photo to be selected,Nutrition photo selected,Ingredients photo selected,Front photo selected,Photos uploaded\",,,unknown,\"en:fat-in-moderate-quantity,en:saturated-fat-in-high-quantity,en:sugars-in-moderate-quantity,en:salt-in-moderate-quantity\",1000.0,1,\"top-75-percent-scans-2024,top-80-percent-scans-2024,top-85-percent-scans-2024,top-90-percent-scans-2024,top-50000-ch-scans-2024,top-100000-ch-scans-2024,top-country-ch-scans-2024\",0.8875,1748094869,2025-05-24T13:54:29.000Z,en:nutrition-drink-mix,Nutrition-drink-mix,https://images.openfoodfacts.org/images/products/000/000/000/0004/front_en.135.400.jpg,https://images.openfoodfacts.org/images/products/000/000/000/0004/front_en.135.200.jpg,https://images.openfoodfacts.org/images/products/000/000/000/0004/ingredients_en.121.400.jpg,https://images.openfoodfacts.org/images/products/000/000/000/0004/ingredients_en.121.200.jpg,https://images.openfoodfacts.org/images/products/000/000/000/0004/nutrition_en.118.400.jpg,https://images.openfoodfacts.org/images/products/000/000/000/0004/nutrition_en.118.200.jpg,2401.0,324.0,2401.0,12.0,10.5,0.0,0.0,13.0,9.0,36.0,23.0,0.3,0.12,,,,,,0.0,15"
        ],
        [
         "1",
         "5.0,http://world-en.openfoodfacts.org/product/00000005/five-grain-granola-roger-s,touchette,1605337720,2020-11-14T07:08:40.000Z,1746375623,2025-05-04T16:20:23.000Z,detrumpezvous,1746375623,2025-05-04T16:20:23.000Z,five grain granola,1000ml,\"Verre, barquette\",\"en:glass,en:tray\",\"Glass,Tray\",Roger’s,xx:roger-s,roger-s,\"Plant-based foods and beverages, Plant-based foods, Breakfasts, Cereals and potatoes, Cereals and their products, Breakfast cereals, Flakes, Cereal flakes, Condiment\",\"en:plant-based-foods-and-beverages,en:plant-based-foods,en:breakfasts,en:cereals-and-potatoes,en:condiments,en:cereals-and-their-products,en:breakfast-cereals,en:flakes,en:cereal-flakes\",\"Plant-based foods and beverages,Plant-based foods,Breakfasts,Cereals and potatoes,Condiments,Cereals and their products,Breakfast cereals,Flakes,Cereal flakes\",bénivay-ollon,benivay-ollon,No lactose,en:no-lactose,No lactose,13089c,13089c,France,,\"Frankreich, Germany\",\"en:france,en:germany\",\"France,Germany\",\"Jus et purée d'abricots (50%), eau, sucre.\",\"en:apricot-juice-and-puree,en:fruit,en:prunus-species-fruit,en:apricot,en:apricot-juice,en:apricot-puree,en:water,en:sugar,en:added-sugar,en:disaccharide\",\"en:palm-oil-free,en:vegan,en:vegetarian\",,,,0g,0.0,0,,,11,d,3,Cereals and potatoes,Breakfast cereals,en:breakfast-cereals,\"en:cereals-and-potatoes,en:breakfast-cereals\",\"Cereals and potatoes,Breakfast cereals\",\"en:to-be-completed, en:nutrition-facts-completed, en:ingredients-completed, en:expiration-date-to-be-completed, en:packaging-code-completed, en:characteristics-to-be-completed, en:origins-to-be-completed, en:categories-completed, en:brands-completed, en:packaging-completed, en:quantity-completed, en:product-name-completed, en:photos-to-be-validated, en:packaging-photo-to-be-selected, en:nutrition-photo-to-be-selected, en:ingredients-photo-selected, en:front-photo-selected, en:photos-uploaded\",\"en:to-be-completed,en:nutrition-facts-completed,en:ingredients-completed,en:expiration-date-to-be-completed,en:packaging-code-completed,en:characteristics-to-be-completed,en:origins-to-be-completed,en:categories-completed,en:brands-completed,en:packaging-completed,en:quantity-completed,en:product-name-completed,en:photos-to-be-validated,en:packaging-photo-to-be-selected,en:nutrition-photo-to-be-selected,en:ingredients-photo-selected,en:front-photo-selected,en:photos-uploaded\",\"To be completed,Nutrition facts completed,Ingredients completed,Expiration date to be completed,Packaging code completed,Characteristics to be completed,Origins to be completed,Categories completed,Brands completed,Packaging completed,Quantity completed,Product name completed,Photos to be validated,Packaging photo to be selected,Nutrition photo to be selected,Ingredients photo selected,Front photo selected,Photos uploaded\",,38,d,\"en:fat-in-low-quantity,en:saturated-fat-in-low-quantity,en:sugars-in-low-quantity,en:salt-in-high-quantity\",1000.0,1,\"top-75-percent-scans-2024,top-80-percent-scans-2024,top-85-percent-scans-2024,top-90-percent-scans-2024,top-50000-ma-scans-2024,top-100000-ma-scans-2024,top-country-ma-scans-2024\",0.875,1746375622,2025-05-04T16:20:22.000Z,en:cereal-flakes,Cereal flakes,https://images.openfoodfacts.org/images/products/000/000/000/0005/front_en.56.400.jpg,https://images.openfoodfacts.org/images/products/000/000/000/0005/front_en.56.200.jpg,https://images.openfoodfacts.org/images/products/000/000/000/0005/ingredients_en.53.400.jpg,https://images.openfoodfacts.org/images/products/000/000/000/0005/ingredients_en.53.200.jpg,,,1620.0,376.0,1620.0,1.6,0.2,,,6.7,1.3,2.9,82.0,1.7,0.68,,,,,,50.0,11"
        ],
        [
         "2",
         "6.0,http://world-en.openfoodfacts.org/product/00000006/triple-cheese-puff,maldan,1732037972,2024-11-19T17:39:32.000Z,1746309277,2025-05-03T21:54:37.000Z,ahmad22779,1746309277,2025-05-03T21:54:37.000Z,Triple cheese puff,500g,,,,,,,\"Boissons et préparations de boissons, Boissons, en:cinnamon roll\",\"en:beverages-and-beverages-preparations,en:beverages,en:cinnamon-roll\",\"Beverages and beverages preparations,Beverages,Cinnamon-roll\",,,,,,,,,,\"Germany, United States, en:france\",\"en:france,en:germany,en:united-states\",\"France,Germany,United States\",,,,,,,100 g,100.0,,,,4,c,,unknown,unknown,,,,\"en:to-be-completed, en:nutrition-facts-completed, en:ingredients-to-be-completed, en:expiration-date-to-be-completed, en:packaging-code-to-be-completed, en:characteristics-to-be-completed, en:origins-to-be-completed, en:categories-completed, en:brands-to-be-completed, en:packaging-to-be-completed, en:quantity-completed, en:product-name-completed, en:photos-to-be-validated, en:packaging-photo-to-be-selected, en:nutrition-photo-selected, en:ingredients-photo-selected, en:front-photo-selected, en:photos-uploaded\",\"en:to-be-completed,en:nutrition-facts-completed,en:ingredients-to-be-completed,en:expiration-date-to-be-completed,en:packaging-code-to-be-completed,en:characteristics-to-be-completed,en:origins-to-be-completed,en:categories-completed,en:brands-to-be-completed,en:packaging-to-be-completed,en:quantity-completed,en:product-name-completed,en:photos-to-be-validated,en:packaging-photo-to-be-selected,en:nutrition-photo-selected,en:ingredients-photo-selected,en:front-photo-selected,en:photos-uploaded\",\"To be completed,Nutrition facts completed,Ingredients to be completed,Expiration date to be completed,Packaging code to be completed,Characteristics to be completed,Origins to be completed,Categories completed,Brands to be completed,Packaging to be completed,Quantity completed,Product name completed,Photos to be validated,Packaging photo to be selected,Nutrition photo selected,Ingredients photo selected,Front photo selected,Photos uploaded\",,,unknown,\"en:fat-in-high-quantity,en:saturated-fat-in-moderate-quantity,en:sugars-in-low-quantity,en:salt-in-high-quantity\",500.0,1,\"top-75-percent-scans-2024,top-80-percent-scans-2024,top-85-percent-scans-2024,top-90-percent-scans-2024,top-50000-ma-scans-2024,top-100000-ma-scans-2024,top-country-ma-scans-2024\",0.4875,1746309263,2025-05-03T21:54:23.000Z,en:cinnamon-roll,Cinnamon-roll,https://images.openfoodfacts.org/images/products/000/000/000/0006/front_en.144.400.jpg,https://images.openfoodfacts.org/images/products/000/000/000/0006/front_en.144.200.jpg,https://images.openfoodfacts.org/images/products/000/000/000/0006/ingredients_en.114.400.jpg,https://images.openfoodfacts.org/images/products/000/000/000/0006/ingredients_en.114.200.jpg,https://images.openfoodfacts.org/images/products/000/000/000/0006/nutrition_en.116.400.jpg,https://images.openfoodfacts.org/images/products/000/000/000/0006/nutrition_en.116.200.jpg,,363.0,1520.0,11.0,2.0,0.0,0.01,25.0,0.98,9.0,22.0,0.95,0.38,,,,,,,4"
        ],
        [
         "3",
         "7.0,http://world-en.openfoodfacts.org/product/00000007/granola-bio-le-chocolate-mg-ricarica,smoothie-app,1678803019,2023-03-14T14:10:19.000Z,1748262529,2025-05-26T12:28:49.000Z,smoothie-app,1748262529,2025-05-26T12:28:49.000Z,granola Bio le Chocolaté,450g,,,,Mg ricarica,xx:mg-ricarica,mg-ricarica,\"Aliments et boissons à base de végétaux, Aliments d'origine végétale, Aliments à base de fruits et de légumes, Fruits et produits dérivés, Produits déshydratés, Aliments à base de plantes séchées, Fruits secs\",\"en:plant-based-foods-and-beverages,en:plant-based-foods,en:fruits-and-vegetables-based-foods,en:dried-products,en:fruits-based-foods,en:dried-plant-based-foods,en:dried-fruits\",\"Plant-based foods and beverages,Plant-based foods,Fruits and vegetables based foods,Dried products,Fruits based foods,Dried plant-based foods,Dried fruits\",,,en:made-in-france,en:made-in-france,Made in France,,,,,\"Spanien, Germany\",\"en:germany,en:spain\",\"Germany,Spain\",HONIG stillende Frauen nicht geeignet. D bestrahlung vermeiden und be trocken lagern. X000V0XH07,\"es:honig-stillende-frauen-nicht-geeignet,es:d-bestrahlung-vermeiden-und-be-trocken-lagern,es:x000v0xh07\",\"en:palm-oil-content-unknown,en:vegan-status-unknown,en:vegetarian-status-unknown\",,,,25 gram,25.0,0,,,4,c,,Fruits and vegetables,Dried fruits,en:dried-fruits,\"en:fruits-and-vegetables,en:dried-fruits\",\"Fruits and vegetables,Dried fruits\",\"en:to-be-completed, en:nutrition-facts-completed, en:ingredients-completed, en:expiration-date-completed, en:packaging-code-to-be-completed, en:characteristics-to-be-completed, en:origins-to-be-completed, en:categories-completed, en:brands-completed, en:packaging-to-be-completed, en:quantity-completed, en:product-name-completed, en:photos-to-be-validated, en:packaging-photo-to-be-selected, en:nutrition-photo-to-be-selected, en:ingredients-photo-to-be-selected, en:front-photo-selected, en:photos-uploaded\",\"en:to-be-completed,en:nutrition-facts-completed,en:ingredients-completed,en:expiration-date-completed,en:packaging-code-to-be-completed,en:characteristics-to-be-completed,en:origins-to-be-completed,en:categories-completed,en:brands-completed,en:packaging-to-be-completed,en:quantity-completed,en:product-name-completed,en:photos-to-be-validated,en:packaging-photo-to-be-selected,en:nutrition-photo-to-be-selected,en:ingredients-photo-to-be-selected,en:front-photo-selected,en:photos-uploaded\",\"To be completed,Nutrition facts completed,Ingredients completed,Expiration date completed,Packaging code to be completed,Characteristics to be completed,Origins to be completed,Categories completed,Brands completed,Packaging to be completed,Quantity completed,Product name completed,Photos to be validated,Packaging photo to be selected,Nutrition photo to be selected,Ingredients photo to be selected,Front photo selected,Photos uploaded\",,,unknown,\"en:fat-in-low-quantity,en:saturated-fat-in-low-quantity,en:sugars-in-low-quantity,en:salt-in-moderate-quantity\",450.0,2,\"top-75-percent-scans-2023,top-80-percent-scans-2023,top-85-percent-scans-2023,top-90-percent-scans-2023,top-50000-de-scans-2023,top-100000-de-scans-2023,top-country-de-scans-2023,top-75-percent-scans-2024,top-80-percent-scans-2024,top-85-percent-scans-2024,top-90-percent-scans-2024,top-country-fr-scans-2024,top-100000-us-scans-2024\",0.7625,1748262414,2025-05-26T12:26:54.000Z,en:dried-fruits,Dried fruits,https://images.openfoodfacts.org/images/products/000/000/000/0007/front_en.35.400.jpg,https://images.openfoodfacts.org/images/products/000/000/000/0007/front_en.35.200.jpg,,,,,,1.0,4.0,1.0,1.0,,,1.0,1.0,1.0,1.0,1.0,0.4,,,,,,0.0,4"
        ],
        [
         "4",
         "8.0,http://world-en.openfoodfacts.org/product/00000008/zuegg,halal-app-chakib,1609862762,2021-01-05T16:06:02.000Z,1746874519,2025-05-10T10:55:19.000Z,roboto-app,1746874519,2025-05-10T10:55:19.000Z,,700ml,,,,Zuegg,xx:zuegg,zuegg,Cornish clotted cream shortbread,en:cornish-clotted-cream-shortbread,Cornish-clotted-cream-shortbread,,,\"Halal, No added sugar, No lactose, en:no-gluten\",\"en:no-gluten,en:halal,en:no-added-sugar,en:no-lactose\",\"No gluten,Halal,No added sugar,No lactose\",,,,,\"Vereinigte Staaten von Amerika, Germany\",\"en:germany,en:united-states\",\"Germany,United States\",\"Sojaproteinisolat, Weizen - protein, Kaffee-Extrakt (6 %), Reisprotein, Erbsenprotein - isolat, Kakaopulver stark ent - ölt, Sonnenblumenprotein, Mandelprotein, Aroma, Sü - Bungsmittel (Sucralose).\",\"en:soy-protein-isolate,en:protein,en:plant-protein,en:soy-protein,en:wheat-protein,en:coffee,en:rice-protein,en:pea-protein,de:isolat,de:kakaopulver-stark-ent,de:ölt,en:sunflower-protein,en:almond-protein,en:flavouring,de:sü,de:bungsmittel,en:e955\",\"en:palm-oil-content-unknown,en:vegan-status-unknown,en:vegetarian-status-unknown\",,,,30 g,30.0,1,en:e955,E955 - Sucralose,6,c,4,unknown,unknown,,,,\"en:to-be-completed, en:nutrition-facts-completed, en:ingredients-completed, en:expiration-date-completed, en:packaging-code-to-be-completed, en:characteristics-to-be-completed, en:origins-to-be-completed, en:categories-completed, en:brands-completed, en:packaging-to-be-completed, en:quantity-completed, en:product-name-to-be-completed, en:photos-to-be-validated, en:packaging-photo-to-be-selected, en:nutrition-photo-selected, en:ingredients-photo-selected, en:front-photo-selected, en:photos-uploaded\",\"en:to-be-completed,en:nutrition-facts-completed,en:ingredients-completed,en:expiration-date-completed,en:packaging-code-to-be-completed,en:characteristics-to-be-completed,en:origins-to-be-completed,en:categories-completed,en:brands-completed,en:packaging-to-be-completed,en:quantity-completed,en:product-name-to-be-completed,en:photos-to-be-validated,en:packaging-photo-to-be-selected,en:nutrition-photo-selected,en:ingredients-photo-selected,en:front-photo-selected,en:photos-uploaded\",\"To be completed,Nutrition facts completed,Ingredients completed,Expiration date completed,Packaging code to be completed,Characteristics to be completed,Origins to be completed,Categories completed,Brands completed,Packaging to be completed,Quantity completed,Product name to be completed,Photos to be validated,Packaging photo to be selected,Nutrition photo selected,Ingredients photo selected,Front photo selected,Photos uploaded\",,,unknown,\"en:fat-in-low-quantity,en:saturated-fat-in-low-quantity,en:sugars-in-low-quantity,en:salt-in-moderate-quantity\",700.0,1,\"top-75-percent-scans-2024,top-80-percent-scans-2024,top-85-percent-scans-2024,top-90-percent-scans-2024,top-50000-ma-scans-2024,top-100000-ma-scans-2024,top-country-ma-scans-2024\",0.6875,1746873012,2025-05-10T10:30:12.000Z,en:cornish-clotted-cream-shortbread,Cornish-clotted-cream-shortbread,https://images.openfoodfacts.org/images/products/000/000/000/0008/front_fr.60.400.jpg,https://images.openfoodfacts.org/images/products/000/000/000/0008/front_fr.60.200.jpg,https://images.openfoodfacts.org/images/products/000/000/000/0008/ingredients_fr.62.400.jpg,https://images.openfoodfacts.org/images/products/000/000/000/0008/ingredients_fr.62.200.jpg,https://images.openfoodfacts.org/images/products/000/000/000/0008/nutrition_en.44.400.jpg,https://images.openfoodfacts.org/images/products/000/000/000/0008/nutrition_en.44.200.jpg,1510.0,358.0,1510.0,2.0,0.5,,,6.7,1.7,10.714286,76.0,1.5,0.6,2.3214286E-4,0.07142857,0.78571427,0.17857143,0.008928571,0.0,6"
        ]
       ],
       "shape": {
        "columns": 1,
        "rows": 5
       }
      },
      "text/html": [
       "<div>\n",
       "<style scoped>\n",
       "    .dataframe tbody tr th:only-of-type {\n",
       "        vertical-align: middle;\n",
       "    }\n",
       "\n",
       "    .dataframe tbody tr th {\n",
       "        vertical-align: top;\n",
       "    }\n",
       "\n",
       "    .dataframe thead th {\n",
       "        text-align: right;\n",
       "    }\n",
       "</style>\n",
       "<table border=\"1\" class=\"dataframe\">\n",
       "  <thead>\n",
       "    <tr style=\"text-align: right;\">\n",
       "      <th></th>\n",
       "      <th>code,url,creator,created_t,created_datetime,last_modified_t,last_modified_datetime,last_modified_by,last_updated_t,last_updated_datetime,product_name,quantity,packaging,packaging_tags,packaging_en,brands,brands_tags,brands_en,categories,categories_tags,categories_en,manufacturing_places,manufacturing_places_tags,labels,labels_tags,labels_en,emb_codes,emb_codes_tags,purchase_places,stores,countries,countries_tags,countries_en,ingredients_text,ingredients_tags,ingredients_analysis_tags,allergens,traces_tags,traces_en,serving_size,serving_quantity,additives_n,additives_tags,additives_en,nutriscore_score,nutriscore_grade,nova_group,pnns_groups_1,pnns_groups_2,food_groups,food_groups_tags,food_groups_en,states,states_tags,states_en,brand_owner,environmental_score_score,environmental_score_grade,nutrient_levels_tags,product_quantity,unique_scans_n,popularity_tags,completeness,last_image_t,last_image_datetime,main_category,main_category_en,image_url,image_small_url,image_ingredients_url,image_ingredients_small_url,image_nutrition_url,image_nutrition_small_url,energy-kj_100g,energy-kcal_100g,energy_100g,fat_100g,saturated-fat_100g,trans-fat_100g,cholesterol_100g,carbohydrates_100g,sugars_100g,fiber_100g,proteins_100g,salt_100g,sodium_100g,vitamin-a_100g,vitamin-c_100g,potassium_100g,calcium_100g,iron_100g,fruits-vegetables-nuts-estimate-from-ingredients_100g,nutrition-score-fr_100g</th>\n",
       "    </tr>\n",
       "  </thead>\n",
       "  <tbody>\n",
       "    <tr>\n",
       "      <th>0</th>\n",
       "      <td>4.0,http://world-en.openfoodfacts.org/product/...</td>\n",
       "    </tr>\n",
       "    <tr>\n",
       "      <th>1</th>\n",
       "      <td>5.0,http://world-en.openfoodfacts.org/product/...</td>\n",
       "    </tr>\n",
       "    <tr>\n",
       "      <th>2</th>\n",
       "      <td>6.0,http://world-en.openfoodfacts.org/product/...</td>\n",
       "    </tr>\n",
       "    <tr>\n",
       "      <th>3</th>\n",
       "      <td>7.0,http://world-en.openfoodfacts.org/product/...</td>\n",
       "    </tr>\n",
       "    <tr>\n",
       "      <th>4</th>\n",
       "      <td>8.0,http://world-en.openfoodfacts.org/product/...</td>\n",
       "    </tr>\n",
       "  </tbody>\n",
       "</table>\n",
       "</div>"
      ],
      "text/plain": [
       "  code,url,creator,created_t,created_datetime,last_modified_t,last_modified_datetime,last_modified_by,last_updated_t,last_updated_datetime,product_name,quantity,packaging,packaging_tags,packaging_en,brands,brands_tags,brands_en,categories,categories_tags,categories_en,manufacturing_places,manufacturing_places_tags,labels,labels_tags,labels_en,emb_codes,emb_codes_tags,purchase_places,stores,countries,countries_tags,countries_en,ingredients_text,ingredients_tags,ingredients_analysis_tags,allergens,traces_tags,traces_en,serving_size,serving_quantity,additives_n,additives_tags,additives_en,nutriscore_score,nutriscore_grade,nova_group,pnns_groups_1,pnns_groups_2,food_groups,food_groups_tags,food_groups_en,states,states_tags,states_en,brand_owner,environmental_score_score,environmental_score_grade,nutrient_levels_tags,product_quantity,unique_scans_n,popularity_tags,completeness,last_image_t,last_image_datetime,main_category,main_category_en,image_url,image_small_url,image_ingredients_url,image_ingredients_small_url,image_nutrition_url,image_nutrition_small_url,energy-kj_100g,energy-kcal_100g,energy_100g,fat_100g,saturated-fat_100g,trans-fat_100g,cholesterol_100g,carbohydrates_100g,sugars_100g,fiber_100g,proteins_100g,salt_100g,sodium_100g,vitamin-a_100g,vitamin-c_100g,potassium_100g,calcium_100g,iron_100g,fruits-vegetables-nuts-estimate-from-ingredients_100g,nutrition-score-fr_100g\n",
       "0  4.0,http://world-en.openfoodfacts.org/product/...                                                                                                                                                                                                                                                                                                                                                                                                                                                                                                                                                                                                                                                                                                                                                                                                                                                                                                                                                                                                                                                                                                                                                                                                                                                                                                                                                                                                  \n",
       "1  5.0,http://world-en.openfoodfacts.org/product/...                                                                                                                                                                                                                                                                                                                                                                                                                                                                                                                                                                                                                                                                                                                                                                                                                                                                                                                                                                                                                                                                                                                                                                                                                                                                                                                                                                                                  \n",
       "2  6.0,http://world-en.openfoodfacts.org/product/...                                                                                                                                                                                                                                                                                                                                                                                                                                                                                                                                                                                                                                                                                                                                                                                                                                                                                                                                                                                                                                                                                                                                                                                                                                                                                                                                                                                                  \n",
       "3  7.0,http://world-en.openfoodfacts.org/product/...                                                                                                                                                                                                                                                                                                                                                                                                                                                                                                                                                                                                                                                                                                                                                                                                                                                                                                                                                                                                                                                                                                                                                                                                                                                                                                                                                                                                  \n",
       "4  8.0,http://world-en.openfoodfacts.org/product/...                                                                                                                                                                                                                                                                                                                                                                                                                                                                                                                                                                                                                                                                                                                                                                                                                                                                                                                                                                                                                                                                                                                                                                                                                                                                                                                                                                                                  "
      ]
     },
     "execution_count": 9,
     "metadata": {},
     "output_type": "execute_result"
    }
   ],
   "source": [
    "df.head(5)"
   ]
  }
 ],
 "metadata": {
  "kernelspec": {
   "display_name": "venv",
   "language": "python",
   "name": "python3"
  },
  "language_info": {
   "codemirror_mode": {
    "name": "ipython",
    "version": 3
   },
   "file_extension": ".py",
   "mimetype": "text/x-python",
   "name": "python",
   "nbconvert_exporter": "python",
   "pygments_lexer": "ipython3",
   "version": "3.12.7"
  }
 },
 "nbformat": 4,
 "nbformat_minor": 5
}
